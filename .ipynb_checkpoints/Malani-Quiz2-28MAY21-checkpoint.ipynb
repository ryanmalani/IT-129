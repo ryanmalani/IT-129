{
 "cells": [
  {
   "cell_type": "code",
   "execution_count": 1,
   "id": "4f7f0751",
   "metadata": {},
   "outputs": [
    {
     "name": "stdout",
     "output_type": "stream",
     "text": [
      "Enter a file name: therepublic.txt\n"
     ]
    }
   ],
   "source": [
    "#getting file name from user and error checking\n",
    "\n",
    "fname = input(\"Enter a file name: \") #getting input for file name\n",
    "key_word = input(\"Enter the word you would like to search for: \") #getting input for keyword search\n",
    "\n",
    "try:\n",
    "    fhand = open(fname)\n",
    "except:\n",
    "    print(\"File cannot be opened:\", fname)\n",
    "    exit()"
   ]
  },
  {
   "cell_type": "code",
   "execution_count": 3,
   "id": "bbd7f2ae",
   "metadata": {},
   "outputs": [
    {
     "name": "stdout",
     "output_type": "stream",
     "text": [
      "Enter the word you would like to search for: Plato\n"
     ]
    }
   ],
   "source": [
    "#creating the function\n",
    "\n",
    "def find_a_word(fname, key_word):\n",
    "    count = 0 #initializing variable for counting number of times keyword shows up\n",
    "    for line in fhand:\n",
    "        found = line.lower().find(key_word) \n",
    "        if found != -1 and found != 0:\n",
    "            count = count + 1\n",
    "    print(key_word, \"was found in\", fname, count, \"times\")    "
   ]
  },
  {
   "cell_type": "code",
   "execution_count": null,
   "id": "6db3a6b0",
   "metadata": {},
   "outputs": [],
   "source": [
    "find_a_word(fname, key_word) #calling function to perform the search"
   ]
  }
 ],
 "metadata": {
  "kernelspec": {
   "display_name": "Python 3",
   "language": "python",
   "name": "python3"
  },
  "language_info": {
   "codemirror_mode": {
    "name": "ipython",
    "version": 3
   },
   "file_extension": ".py",
   "mimetype": "text/x-python",
   "name": "python",
   "nbconvert_exporter": "python",
   "pygments_lexer": "ipython3",
   "version": "3.9.5"
  }
 },
 "nbformat": 4,
 "nbformat_minor": 5
}
