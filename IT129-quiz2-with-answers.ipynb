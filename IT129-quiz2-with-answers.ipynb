{
 "cells": [
  {
   "cell_type": "markdown",
   "metadata": {},
   "source": [
    "Be sure to download sample.txt and therepublic.txt on your computer. If you're using Colab, you'll need to upload them to your workspace.\n",
    "\n",
    "In a Python notebook, write a function named find_a_word that will look in a file for a word the user specifies and counts the number of times that the word is used. Then run the function to look for a word in the sample.txt file and in therepublic.txt file.\n",
    "\n",
    "Please note that the sample.txt file is a testing file with a fake language that is used for testing programs. You will have to look at it to pick a couple of \"words\" to use to show your program works correctly. therepublic.txt is Plato's The Republic translated to English. You can search for random words and eventually one should show up. You can use the word, Plato, as a test to see if you are reading from the file correctly.\n",
    "\n",
    "The following is an example of running the function:\n",
    "\n",
    "find_a_word(\"sample.txt\",\"nulla\")\n",
    "\n",
    "You have 30 minutes to work on this problem. Anyone that submits a correct answer within 15 minutes of starting the quiz will receive 5 extra credit points. This quiz is worth 15 points.\n",
    "\n",
    "Submit your answer as a .ipynb file. No other file type will be accepted nor will a link to a Colab workbook. If you used this file to answer the quiz, be sure to rename it with your last name in all capital letters, a dash,quiz2,another dash, then the date in the following format - 28MAY21.\n",
    "\n",
    "EX - PENDLETON-Quiz2-28MAY21"
   ]
  },
  {
   "cell_type": "code",
   "execution_count": 62,
   "metadata": {
    "scrolled": false
   },
   "outputs": [
    {
     "name": "stdout",
     "output_type": "stream",
     "text": [
      "Nulla appears 7 times.\n"
     ]
    }
   ],
   "source": [
    "def find_a_word(textfile,word_to_find):\n",
    "    count=0\n",
    "    file=open(textfile)\n",
    "    text = file.read()\n",
    "    text = text.split()\n",
    "    for word in text:\n",
    "        if word == word_to_find:\n",
    "            count+=1\n",
    "    print(word_to_find.title(),\"appears\",count,\"times.\")\n",
    "find_a_word(\"sample.txt\",\"nulla\")"
   ]
  },
  {
   "cell_type": "code",
   "execution_count": 63,
   "metadata": {},
   "outputs": [
    {
     "name": "stdout",
     "output_type": "stream",
     "text": [
      "Plato appears 232 times.\n"
     ]
    }
   ],
   "source": [
    "find_a_word(\"therepublic.txt\",\"Plato\")"
   ]
  },
  {
   "cell_type": "code",
   "execution_count": 64,
   "metadata": {},
   "outputs": [
    {
     "name": "stdout",
     "output_type": "stream",
     "text": [
      "Plato appears 0 times.\n"
     ]
    }
   ],
   "source": [
    "find_a_word(\"therepublic.txt\",\"plato\")"
   ]
  },
  {
   "cell_type": "code",
   "execution_count": 65,
   "metadata": {},
   "outputs": [
    {
     "name": "stdout",
     "output_type": "stream",
     "text": [
      "nulla appears 12 times.\n"
     ]
    }
   ],
   "source": [
    "def find_a_word(textfile,word):\n",
    "    file=open(textfile)\n",
    "    text = file.read()\n",
    "    number_words = text.count(word)\n",
    "    print(word,\"appears\",number_words,\"times.\")\n",
    "find_a_word(\"sample.txt\",\"nulla\")"
   ]
  },
  {
   "cell_type": "code",
   "execution_count": 66,
   "metadata": {},
   "outputs": [
    {
     "name": "stdout",
     "output_type": "stream",
     "text": [
      "Plato appears 409 times.\n"
     ]
    }
   ],
   "source": [
    "find_a_word(\"therepublic.txt\",\"Plato\")"
   ]
  },
  {
   "cell_type": "code",
   "execution_count": 67,
   "metadata": {},
   "outputs": [
    {
     "name": "stdout",
     "output_type": "stream",
     "text": [
      "plato appears 0 times.\n"
     ]
    }
   ],
   "source": [
    "find_a_word(\"therepublic.txt\",\"plato\")"
   ]
  },
  {
   "cell_type": "code",
   "execution_count": null,
   "metadata": {},
   "outputs": [],
   "source": []
  }
 ],
 "metadata": {
  "kernelspec": {
   "display_name": "Python 3",
   "language": "python",
   "name": "python3"
  },
  "language_info": {
   "codemirror_mode": {
    "name": "ipython",
    "version": 3
   },
   "file_extension": ".py",
   "mimetype": "text/x-python",
   "name": "python",
   "nbconvert_exporter": "python",
   "pygments_lexer": "ipython3",
   "version": "3.9.5"
  }
 },
 "nbformat": 4,
 "nbformat_minor": 4
}
